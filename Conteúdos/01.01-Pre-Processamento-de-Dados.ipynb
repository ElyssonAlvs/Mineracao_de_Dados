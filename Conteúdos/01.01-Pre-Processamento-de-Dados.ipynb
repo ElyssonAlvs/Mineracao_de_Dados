{
 "cells": [
  {
   "cell_type": "markdown",
   "metadata": {
    "slideshow": {
     "slide_type": "slide"
    }
   },
   "source": [
    "## QXD0178 - Mineração de Dados\n",
    "# Pré-processamento de Dados"
   ]
  },
  {
   "cell_type": "markdown",
   "metadata": {
    "slideshow": {
     "slide_type": "slide"
    }
   },
   "source": [
    "## Limpeza de dados"
   ]
  },
  {
   "cell_type": "markdown",
   "metadata": {
    "slideshow": {
     "slide_type": "subslide"
    }
   },
   "source": [
    "**Limpeza de dados**\n",
    "\n",
    "O primeiro passo é verificar se a base necessita de algum procedimento de limpeza de dados. \n",
    "\n",
    "Alguns objetos podem ter informações faltantes. Uma das opções é eliminar esses objetos, reduzindo o tamanho da base; contudo, a remoção pode causar perda de informação importante."
   ]
  },
  {
   "cell_type": "markdown",
   "metadata": {
    "slideshow": {
     "slide_type": "subslide"
    }
   },
   "source": [
    "**Valores ausentes**\n",
    "Um valor ausente costuma ser representado por um código de ausência, que pode ser um valor específico, um espaço em branco ou um símbolo (por exemplo, ''np.NaN''). Um valor ausente caracteriza um valor ignorado ou que não foi observado, e, nesse sentido, a substituição de valores ausentes, também conhecida como imputação, tem como objetivo estimar os valores ausentes com base nas informações disponíveis no conjunto de dados."
   ]
  },
  {
   "cell_type": "markdown",
   "metadata": {},
   "source": [
    "A imputação de valores ausentes assume que essa ausência de valor implica a perda de informação relevante de algum atributo. \n"
   ]
  },
  {
   "cell_type": "markdown",
   "metadata": {
    "slideshow": {
     "slide_type": "subslide"
    }
   },
   "source": [
    "Os métodos tradicionais de imputação de valores ausentes são:"
   ]
  },
  {
   "cell_type": "markdown",
   "metadata": {},
   "source": [
    "1.  **Ignorar o objeto**: consiste em remover da base (ignorar) todos aqueles objetos que possuem um ou mais valores ausentes. \n",
    "2. **Imputar manualmente os valores ausentes**: consiste em escolher de forma empírica um valor a ser imputado para cada valor ausente.\n",
    "3. **Usar uma constante global para imputar o valor ausente**: corresponde a substituir todos os valores ausentes de certo atributo por uma constante única. \n",
    "4. **Imputação do tipo hot-deck**: um valor ausente é imputado usando o valor do mesmo atributo de um objeto similar aleatoriamente selecionado. \n"
   ]
  },
  {
   "cell_type": "markdown",
   "metadata": {
    "slideshow": {
     "slide_type": "subslide"
    }
   },
   "source": [
    "5. **Imputar de acordo com a última observação (last observation carried forward)**: consiste em ordenar a base de dados seguindo um ou mais de seus atributos e então busca cada valor ausente e usa aquele valor da célula imediatamente anterior para imputar o valor ausente.\n",
    "6. **Usar a média ou moda de um atributo para imputar o valor ausente**: o método consiste em substituir os valores ausentes de cada atributo pela média (no caso de atributos numéricos) ou moda (no caso de atributos nominais) dos valores do atributo.\n",
    "7. **Usar a média ou moda de todos os objetos da mesma classe para imputar o valor ausente**: a diferença deste método para o anterior é que a média ou moda é tomada considerando apenas os objetos da mesma classe daquele que contém o valor ausente.\n",
    "8. **Usar modelos preditivos para imputar o valor ausente**: qualquer método preditivo pode ser usado para estimar o valor ausente. "
   ]
  },
  {
   "cell_type": "markdown",
   "metadata": {
    "slideshow": {
     "slide_type": "subslide"
    }
   },
   "source": [
    "Uma abordagem mais sistemática de tratamento de valores ausentes deve considerar quatro passos:\n",
    "\n",
    "* investigar as razões dos dados ausentes de forma que os evite; \n",
    "* investigar o impacto dos dados ausentes no resultado das análises a serem feitas em termos de confiabilidade, validade e generalização das conclusões;\n",
    "* considerar os vários métodos de imputação de valores ausentes; e \n",
    "* investigar o resultado da aplicação de cada um dos métodos considerados no passo anterior.\n"
   ]
  },
  {
   "cell_type": "markdown",
   "metadata": {
    "slideshow": {
     "slide_type": "slide"
    }
   },
   "source": [
    "## Redução de dados"
   ]
  },
  {
   "cell_type": "markdown",
   "metadata": {
    "slideshow": {
     "slide_type": "subslide"
    }
   },
   "source": [
    "**Redução dos dados**\n",
    "\n",
    "A redução dos dados tem como um dos objetivos a construção de bases de dados menores para aumento do desempenho computacional, ao mesmo tempo que tenta manter as características originais dos dados."
   ]
  },
  {
   "cell_type": "markdown",
   "metadata": {
    "slideshow": {
     "slide_type": "subslide"
    }
   },
   "source": [
    "O aumento do número de objetos e da dimensão do espaço (número de atributos na base) pode fazer com que os dados disponíveis se tornem esparsos e as medidas matemáticas usadas na análise tornem-se numericamente instáveis. . "
   ]
  },
  {
   "cell_type": "markdown",
   "metadata": {},
   "source": [
    "Além disso, uma quantidade muito grande de objetos e atributos pode tornar o processamento dos algoritmos de mineração muito complexo."
   ]
  },
  {
   "cell_type": "markdown",
   "metadata": {
    "slideshow": {
     "slide_type": "-"
    }
   },
   "source": [
    "As técnicas de redução de dados podem ser aplicadas tanto para reduzir a quantidade de objetos da base quanto para reduzir a quantidade de atributos que os descrevem (dimensionalidade),"
   ]
  },
  {
   "cell_type": "markdown",
   "metadata": {
    "slideshow": {
     "slide_type": "subslide"
    }
   },
   "source": [
    "Dentre os métodos de redução de dados destacam-se:\n",
    "\n",
    "* **Seleção de atributos (ou características)**: efetua uma redução de dimensionalidade na qual atributos irrelevantes, pouco relevantes ou redundantes são detectados e removidos.\n",
    "* **Compressão de atributos**: também efetua uma redução da dimensionalidade, mas empregando algoritmos de codificação ou transformação de dados (atributos), em vez de seleção.\n",
    "* **Redução no número de dados**: neste método, os dados são removidos, substituídos ou estimados por representações menores (mais simples), como modelos paramétricos (que armazenam apenas os parâmetros do modelo em vez dos dados) e os métodos não paramétricos, como agrupamento, amostragem e histogramas.\n",
    "* **Discretização**: os valores de atributos são substituídos por intervalos ou níveis conceituais mais elevados, reduzindo a quantidade final de atributos.\n",
    "\n"
   ]
  },
  {
   "cell_type": "markdown",
   "metadata": {
    "slideshow": {
     "slide_type": "slide"
    }
   },
   "source": [
    "### Redução do número de dados"
   ]
  },
  {
   "cell_type": "markdown",
   "metadata": {
    "slideshow": {
     "slide_type": "subslide"
    }
   },
   "source": [
    "Métodos de **amostragem** tem como objetivo selecionar um subconjunto de objetos de uma base que seja representativo de toda ela para efeitos de análise ou estudo."
   ]
  },
  {
   "cell_type": "markdown",
   "metadata": {
    "slideshow": {
     "slide_type": "subslide"
    }
   },
   "source": [
    "Os principais métodos de amostragem são:\n",
    "* **Amostragem aleatória sem substituição**: uma amostra com $n$ objetos distintos $(n < N)$ é retirada aleatoriamente da base de dados.\n",
    "* **Amostragem aleatória com substituição**: similar ao caso anterior, mas cada objeto retirado da base é armazenado e devolvido à base, de forma que ele possa ser selecionado novamente.\n",
    "* **Amostragem sistemática**: consiste em organizar a base de dados seguindo algum critério, por exemplo, do menor ao maior valor de algum atributo do objeto ou do objeto mais antigo ao mais novo, e selecionar objetos de forma sistemática, como por exemplo, os objetos cujos índices são pares ou apenas os objetos gerados no ano atual.\n"
   ]
  },
  {
   "cell_type": "markdown",
   "metadata": {
    "slideshow": {
     "slide_type": "subslide"
    }
   },
   "source": [
    "* **Amostragem por grupo**: se uma base de dados está agrupada em M grupos disjuntos, então $m$ grupos $(m < M)$ podem ser escolhidos aleatoriamente.\n",
    "* **Amostragem estratificada**: se a base de dados está dividida em grupos ou classes, então na amostragem estratificada a proporção de dados de cada classe é mantida."
   ]
  },
  {
   "cell_type": "markdown",
   "metadata": {
    "slideshow": {
     "slide_type": "subslide"
    }
   },
   "source": [
    "Uma vantagem da amostragem é que seu custo computacional é proporcional ao tamanho da amostra a ser retirada da base e, portanto, é sublinear em relação ao tamanho original da base. \n",
    "\n",
    "A principal desvantagem do método é o possível erro do processo de mineração por causa da amostragem."
   ]
  },
  {
   "cell_type": "markdown",
   "metadata": {
    "slideshow": {
     "slide_type": "subslide"
    }
   },
   "source": [
    "### Compressão de atributos"
   ]
  },
  {
   "cell_type": "markdown",
   "metadata": {},
   "source": [
    "\n",
    "As técnicas de compressão aplicam uma codificação ou transformação para que uma representação compacta dos dados ou atributos originais seja obtida.\n",
    "Se os dados originais puderem ser reconstruídos a partir dos dados comprimidos sem perda de informação, então dizemos que o método de compressão é sem perda (*lossless*); senão, dizemos que é com perda (*lossy*)."
   ]
  },
  {
   "cell_type": "markdown",
   "metadata": {
    "slideshow": {
     "slide_type": "subslide"
    }
   },
   "source": [
    "A **análise de componentes principais** (*Principal Component Analysis* – PCA), um dos métodos mais úteis e eficazes na compressão de dados, é um procedimento estatístico que converte um conjunto de objetos com atributos possivelmente correlacionados em um conjunto de objetos com atributos linearmente descorrelacionados, chamados de compo-nentes principais."
   ]
  },
  {
   "cell_type": "markdown",
   "metadata": {},
   "source": [
    "A análise de componentes principais é a principal técnica linear para a redução de dimensionalidade dos dados. Ela realiza um mapeamento linear (também chamado de projeção) dos dados em um espaço de dimensão menor, a fim de que a variância dos dados nesse espaço seja maximizada."
   ]
  },
  {
   "cell_type": "markdown",
   "metadata": {
    "slideshow": {
     "slide_type": "subslide"
    }
   },
   "source": [
    "### Modelos de aproximação"
   ]
  },
  {
   "cell_type": "markdown",
   "metadata": {},
   "source": [
    "Os *modelos de aproximação* de dados operam de forma completamente diferente dos métodos amostrais, e seu objetivo é representar ou ajustar os dados usando algum modelo que pode ser definido ou não por um conjunto de parâmetros."
   ]
  },
  {
   "cell_type": "markdown",
   "metadata": {
    "slideshow": {
     "slide_type": "slide"
    }
   },
   "source": [
    "## Transformação de dados"
   ]
  },
  {
   "cell_type": "markdown",
   "metadata": {
    "slideshow": {
     "slide_type": "subslide"
    }
   },
   "source": [
    "**Transformação**\n",
    "\n",
    "Os métodos de transformação de dados visam modificar ou consolidar os dados em formas apropriadas aos processos de mineração. Por exemplo, pode haver valores de um mesmo atributo escritos em maiúsculo e outros em minúsculo, e os formatos e as unidades podem ser diferentes. Problemas dessa natureza são resolvidos padronizando ou normalizando os dados."
   ]
  },
  {
   "cell_type": "markdown",
   "metadata": {
    "slideshow": {
     "slide_type": "subslide"
    }
   },
   "source": [
    "### Padronização\n",
    "\n",
    "O objetivo principal da padronização é resolver as diferenças de unidades e escalas dos dados. "
   ]
  },
  {
   "cell_type": "markdown",
   "metadata": {
    "slideshow": {
     "slide_type": "subslide"
    }
   },
   "source": [
    "Exemplos de transformação:\n",
    "\n",
    "* **Capitalização**: dados nominais podem aparecer em minúsculo, maiúsculo ou ambos. Para evitar inconsistências com ferramentas sensíveis a letras maiúsculas ou minúsculas, é usual padronizar as fontes, normalmente para maiúsculo.\n",
    "* **Caracteres especiais**: algumas ferramentas de mineração de dados podem ser sensíveis ao conjunto de caracteres utilizado em determinado idioma. Por exemplo, ferramentas projetadas para bases de dados na língua inglesa podem apresentar problemas decorrentes da acentuação utilizada na língua portuguesa. Uma simples troca de letras em valores nominais pode evitar eventuais problemas.\n"
   ]
  },
  {
   "cell_type": "markdown",
   "metadata": {
    "slideshow": {
     "slide_type": "subslide"
    }
   },
   "source": [
    "* **Padronização de formatos**: o uso de alguns tipos de atributos, como datas e números de documentos, permite diferentes formatos. Por exemplo, datas podem ser apresentadas DDMMAAAA ou MMDDAAAA (dependendo do país de origem), um número de CPF pode ser apresentado como XXX.XXX.XXX-XX ou como XXXXXXXXXXX. Para evitar esses problemas, é preciso observar e padronizar o formato de cada atributo da base, principalmente quando diferentes bases precisam ser integradas.\n",
    "* **Conversão de unidades**: outro problema comum nas bases brutas é o uso de diferentes unidades de medida – por exemplo, centímetros ou metros, quilômetros por hora ou milhas por hora etc. Nesse caso, vale o mesmo princípio discutido anteriormente: todos os dados devem ser convertidos e padronizados em uma mesma unidade de medida.\n"
   ]
  },
  {
   "cell_type": "markdown",
   "metadata": {
    "slideshow": {
     "slide_type": "subslide"
    }
   },
   "source": [
    "### Normalização \n",
    "\n",
    "A normalização é um processo de transformação dos dados que objetiva torná-los mais apro-priados à aplicação de algum algoritmo de mineração, como redes neurais artificiais ou métodos baseados em distância. A necessidade de normalização pode ser consequência de diversos fatores, como evitar a saturação dos neurônios em uma rede neural artificial de múltiplas camadas e fazer com que cada atributo dos dados de entrada tenha o mesmo domínio. \n"
   ]
  },
  {
   "cell_type": "markdown",
   "metadata": {
    "slideshow": {
     "slide_type": "subslide"
    }
   },
   "source": [
    "#### Normalização Max-Min \n",
    "\n",
    "A normalização Max-Min realiza uma transformação linear nos dados originais. Assuma que $max_a$ e $min_a$ são, respectivamente, os valores máximo e mínimo de determinado\n",
    "atributo $a$. A normalização max-min mapeia um valor a em um valor $a'$ no domínio $[novo\\_{}min_a, novo\\_{}max_a]$, de acordo com seguinte equação:\n",
    "\n",
    "$$a' = \\frac{a - min_a}{max_a - min_a} (novo\\_{}max_a - novo\\_{}min_a) + novo\\_{}min_a$$\n",
    "\n",
    "A aplicação mais frequente dessa normalização é colocar todos os atributos de uma base de dados sob um mesmo intervalo de valores, por exemplo no intervalo [0, 1]."
   ]
  },
  {
   "cell_type": "markdown",
   "metadata": {
    "slideshow": {
     "slide_type": "subslide"
    }
   },
   "source": [
    "#### Normalização pelo z-score\n",
    "\n",
    "Também conhecida por normalização de média zero, os valores de um atributo $a$ são normalizados tendo como base a média e o desvio padrão de $a$, \n",
    "\n",
    "$$a' = \\frac{(a - \\overline{a})}{\\sigma_a}$$\n",
    "\n",
    "onde $\\overline{a}$ é a média e $\\sigma_a$ o desvio padrão de $a$."
   ]
  },
  {
   "cell_type": "markdown",
   "metadata": {
    "slideshow": {
     "slide_type": "subslide"
    }
   },
   "source": [
    "#### Normalização pelo escalonamento decimal \n",
    "\n",
    "A normalização pelo escalonamento decimal move a casa decimal dos valores do atributo $a$. O número de casas decimais movidas depende do valor máximo absoluto do atributo $a$. \n",
    "\n",
    "$$ a' = \\frac{a}{10^j} $$\n",
    "\n",
    "onde $j$ é o menor inteiro tal que $|a'| < 1$."
   ]
  },
  {
   "cell_type": "markdown",
   "metadata": {
    "slideshow": {
     "slide_type": "subslide"
    }
   },
   "source": [
    "#### Normalização pelo interquartil \n",
    "\n",
    "A normalização interquartil toma cada valor do atributo, subtrai a mediana e divide pelo intervalo interquartil (IQR, do inglês *interquartile range*). \n",
    "\n",
    "Os quartis de um atributo ordenado são os três pontos que dividem o domínio do atributo em quatro grupos de cardinalidades iguais, cada qual composto por um quarto da quantidade total de dados.\n",
    "\n",
    "* O primeiro quartil, $Q_1$ é definido como o ponto central entre o menor valor e a mediana;\n",
    "* O segundo quartil, $Q_2$, é a mediana, que divide o conjunto de dados ordenados em dois subconjuntos, cada um contendo metade da quantidade total dos dados;\n",
    "* O terceiro quartil, $Q_3$, é o valor do meio entre a mediana e o maior valor do atributo.\n",
    "\n",
    "A normalização interquartil opera de acordo com a seguinte equação:\n",
    "\n",
    "$$ a' = \\frac{a - Q_2}{Q_3 - Q_1} $$\n",
    "\n"
   ]
  },
  {
   "cell_type": "markdown",
   "metadata": {
    "slideshow": {
     "slide_type": "slide"
    }
   },
   "source": [
    "## Discretização"
   ]
  },
  {
   "cell_type": "markdown",
   "metadata": {
    "slideshow": {
     "slide_type": "subslide"
    }
   },
   "source": [
    "**Discretização**\n",
    "\n",
    "Muitos algoritmos em mineração de dados não trabalham com dados mistos, ou seja, bases de dados com atributos categóricos e contínuos.\n",
    "\n",
    "Nesses casos, atributos numéricos podem ser discretizados, dividindo o domínio do atributo em intervalos e ampliando a quantidade de métodos de análise disponíveis para aplicação."
   ]
  },
  {
   "cell_type": "markdown",
   "metadata": {},
   "source": [
    "Além disso, a discretização reduz a quantidade de valores de um dado atributo contínuo, facilitando, em muitos casos, o processo de mineração.\n"
   ]
  },
  {
   "cell_type": "markdown",
   "metadata": {
    "slideshow": {
     "slide_type": "subslide"
    }
   },
   "source": [
    "A maneira mais óbvia de discretizar um certo atributo é dividindo seu domínio em um número predeterminado de intervalos iguais, o que normalmente é feito no momento da coleta dos dados. "
   ]
  },
  {
   "cell_type": "markdown",
   "metadata": {
    "slideshow": {
     "slide_type": "subslide"
    }
   },
   "source": [
    "#### Encaixotamento (*binning*)\n",
    "Atributos podem ser discretizados distribuindo-se seus valores em intervalos (*bins*) e substituindo-se o valor de cada intervalo pela média ou mediana. \n",
    "\n",
    "Há  dois tipos de métodos de encaixotamento: de mesma largura (o intervalo de cada caixa tem o mesmo tamanho) e de mesma frequência (a quantidade de objetos em cada caixa é a mesma). \n"
   ]
  },
  {
   "cell_type": "markdown",
   "metadata": {
    "slideshow": {
     "slide_type": "subslide"
    }
   },
   "source": [
    "\n",
    "Em ambos os casos, o método de encaixotamento funciona da seguinte maneira: (1) ordene os valores do atributo, (2) defina a quantidade de caixas, (3) escolha um ou mais valores representativos daquela caixa e (4) substi-tua todos os valores da caixa por esses valores. \n",
    "\n",
    "O valor representativo pode ser calculado de diferentes maneiras, por exemplo, pela média ou moda da caixa, ou pelos valores extremos da caixa, sendo que, neste último, cada valor dentro da caixa é substituído pelo extremo mais próximo."
   ]
  },
  {
   "cell_type": "markdown",
   "metadata": {
    "slideshow": {
     "slide_type": "subslide"
    }
   },
   "source": [
    "#### Histogramas\n",
    "\n",
    "Similar à discretização por encaixotamento, a discretização por histogramas utiliza faixas para definir os intervalos de valores do atributo. Após a definição do histograma, os valores do atributo são substituídos de acordo com a faixa na qual estes se encontram; com isso, a quantidade de valores discretos dependerá da quantidade de faixas escolhidas."
   ]
  },
  {
   "cell_type": "markdown",
   "metadata": {
    "slideshow": {
     "slide_type": "subslide"
    }
   },
   "source": [
    "#### Agrupamentos\n",
    "\n",
    "Algoritmos de agrupamento são utilizados para particionar o atributo em grupos de valores seguindo um critério preestabelecido. Cada grupo de valores é representado por um protótipo que é utilizado em substituição aos valores que pertencem ao grupo, e diferentes métodos de agrupamento podem ser utilizados para realização dessa tarefa. "
   ]
  },
  {
   "cell_type": "markdown",
   "metadata": {
    "slideshow": {
     "slide_type": "slide"
    }
   },
   "source": [
    "## Exemplo de Preparação de Dados"
   ]
  },
  {
   "cell_type": "markdown",
   "metadata": {
    "slideshow": {
     "slide_type": "subslide"
    }
   },
   "source": [
    "**Dataset**: [Food choices: College students' food and cooking preferences](https://www.kaggle.com/datasets/borapajo/food-choices?select=food_coded.csv)\n",
    "\n",
    "Esta base de dados inclui informações sobre escolhas alimentares, nutrição, preferências, favoritos da infância e outras informações de estudantes universitários. Existem 126 respostas de alunos. Os dados são brutos e não limpos. "
   ]
  },
  {
   "cell_type": "code",
   "execution_count": 11,
   "metadata": {},
   "outputs": [
    {
     "data": {
      "text/html": [
       "<div>\n",
       "<style scoped>\n",
       "    .dataframe tbody tr th:only-of-type {\n",
       "        vertical-align: middle;\n",
       "    }\n",
       "\n",
       "    .dataframe tbody tr th {\n",
       "        vertical-align: top;\n",
       "    }\n",
       "\n",
       "    .dataframe thead th {\n",
       "        text-align: right;\n",
       "    }\n",
       "</style>\n",
       "<table border=\"1\" class=\"dataframe\">\n",
       "  <thead>\n",
       "    <tr style=\"text-align: right;\">\n",
       "      <th></th>\n",
       "      <th>GPA</th>\n",
       "      <th>Gender</th>\n",
       "      <th>breakfast</th>\n",
       "      <th>calories_chicken</th>\n",
       "      <th>calories_day</th>\n",
       "      <th>calories_scone</th>\n",
       "      <th>coffee</th>\n",
       "      <th>comfort_food</th>\n",
       "      <th>comfort_food_reasons</th>\n",
       "      <th>comfort_food_reasons_coded</th>\n",
       "      <th>...</th>\n",
       "      <th>soup</th>\n",
       "      <th>sports</th>\n",
       "      <th>thai_food</th>\n",
       "      <th>tortilla_calories</th>\n",
       "      <th>turkey_calories</th>\n",
       "      <th>type_sports</th>\n",
       "      <th>veggies_day</th>\n",
       "      <th>vitamins</th>\n",
       "      <th>waffle_calories</th>\n",
       "      <th>weight</th>\n",
       "    </tr>\n",
       "  </thead>\n",
       "  <tbody>\n",
       "    <tr>\n",
       "      <th>0</th>\n",
       "      <td>2.4</td>\n",
       "      <td>2</td>\n",
       "      <td>1</td>\n",
       "      <td>430</td>\n",
       "      <td>NaN</td>\n",
       "      <td>315.0</td>\n",
       "      <td>1</td>\n",
       "      <td>none</td>\n",
       "      <td>we dont have comfort</td>\n",
       "      <td>9.0</td>\n",
       "      <td>...</td>\n",
       "      <td>1.0</td>\n",
       "      <td>1.0</td>\n",
       "      <td>1</td>\n",
       "      <td>1165.0</td>\n",
       "      <td>345</td>\n",
       "      <td>car racing</td>\n",
       "      <td>5</td>\n",
       "      <td>1</td>\n",
       "      <td>1315</td>\n",
       "      <td>187</td>\n",
       "    </tr>\n",
       "    <tr>\n",
       "      <th>1</th>\n",
       "      <td>3.654</td>\n",
       "      <td>1</td>\n",
       "      <td>1</td>\n",
       "      <td>610</td>\n",
       "      <td>3.0</td>\n",
       "      <td>420.0</td>\n",
       "      <td>2</td>\n",
       "      <td>chocolate, chips, ice cream</td>\n",
       "      <td>Stress, bored, anger</td>\n",
       "      <td>1.0</td>\n",
       "      <td>...</td>\n",
       "      <td>1.0</td>\n",
       "      <td>1.0</td>\n",
       "      <td>2</td>\n",
       "      <td>725.0</td>\n",
       "      <td>690</td>\n",
       "      <td>Basketball</td>\n",
       "      <td>4</td>\n",
       "      <td>2</td>\n",
       "      <td>900</td>\n",
       "      <td>155</td>\n",
       "    </tr>\n",
       "    <tr>\n",
       "      <th>2</th>\n",
       "      <td>3.3</td>\n",
       "      <td>1</td>\n",
       "      <td>1</td>\n",
       "      <td>720</td>\n",
       "      <td>4.0</td>\n",
       "      <td>420.0</td>\n",
       "      <td>2</td>\n",
       "      <td>frozen yogurt, pizza, fast food</td>\n",
       "      <td>stress, sadness</td>\n",
       "      <td>1.0</td>\n",
       "      <td>...</td>\n",
       "      <td>1.0</td>\n",
       "      <td>2.0</td>\n",
       "      <td>5</td>\n",
       "      <td>1165.0</td>\n",
       "      <td>500</td>\n",
       "      <td>none</td>\n",
       "      <td>5</td>\n",
       "      <td>1</td>\n",
       "      <td>900</td>\n",
       "      <td>I'm not answering this.</td>\n",
       "    </tr>\n",
       "    <tr>\n",
       "      <th>3</th>\n",
       "      <td>3.2</td>\n",
       "      <td>1</td>\n",
       "      <td>1</td>\n",
       "      <td>430</td>\n",
       "      <td>3.0</td>\n",
       "      <td>420.0</td>\n",
       "      <td>2</td>\n",
       "      <td>Pizza, Mac and cheese, ice cream</td>\n",
       "      <td>Boredom</td>\n",
       "      <td>2.0</td>\n",
       "      <td>...</td>\n",
       "      <td>1.0</td>\n",
       "      <td>2.0</td>\n",
       "      <td>5</td>\n",
       "      <td>725.0</td>\n",
       "      <td>690</td>\n",
       "      <td>NaN</td>\n",
       "      <td>3</td>\n",
       "      <td>1</td>\n",
       "      <td>1315</td>\n",
       "      <td>Not sure, 240</td>\n",
       "    </tr>\n",
       "    <tr>\n",
       "      <th>4</th>\n",
       "      <td>3.5</td>\n",
       "      <td>1</td>\n",
       "      <td>1</td>\n",
       "      <td>720</td>\n",
       "      <td>2.0</td>\n",
       "      <td>420.0</td>\n",
       "      <td>2</td>\n",
       "      <td>Ice cream, chocolate, chips</td>\n",
       "      <td>Stress, boredom, cravings</td>\n",
       "      <td>1.0</td>\n",
       "      <td>...</td>\n",
       "      <td>1.0</td>\n",
       "      <td>1.0</td>\n",
       "      <td>4</td>\n",
       "      <td>940.0</td>\n",
       "      <td>500</td>\n",
       "      <td>Softball</td>\n",
       "      <td>4</td>\n",
       "      <td>2</td>\n",
       "      <td>760</td>\n",
       "      <td>190</td>\n",
       "    </tr>\n",
       "    <tr>\n",
       "      <th>...</th>\n",
       "      <td>...</td>\n",
       "      <td>...</td>\n",
       "      <td>...</td>\n",
       "      <td>...</td>\n",
       "      <td>...</td>\n",
       "      <td>...</td>\n",
       "      <td>...</td>\n",
       "      <td>...</td>\n",
       "      <td>...</td>\n",
       "      <td>...</td>\n",
       "      <td>...</td>\n",
       "      <td>...</td>\n",
       "      <td>...</td>\n",
       "      <td>...</td>\n",
       "      <td>...</td>\n",
       "      <td>...</td>\n",
       "      <td>...</td>\n",
       "      <td>...</td>\n",
       "      <td>...</td>\n",
       "      <td>...</td>\n",
       "      <td>...</td>\n",
       "    </tr>\n",
       "    <tr>\n",
       "      <th>120</th>\n",
       "      <td>3.5</td>\n",
       "      <td>1</td>\n",
       "      <td>1</td>\n",
       "      <td>610</td>\n",
       "      <td>4.0</td>\n",
       "      <td>420.0</td>\n",
       "      <td>2</td>\n",
       "      <td>wine. mac and cheese, pizza, ice cream</td>\n",
       "      <td>boredom and sadness</td>\n",
       "      <td>NaN</td>\n",
       "      <td>...</td>\n",
       "      <td>1.0</td>\n",
       "      <td>1.0</td>\n",
       "      <td>5</td>\n",
       "      <td>940.0</td>\n",
       "      <td>500</td>\n",
       "      <td>Softball</td>\n",
       "      <td>5</td>\n",
       "      <td>1</td>\n",
       "      <td>1315</td>\n",
       "      <td>156</td>\n",
       "    </tr>\n",
       "    <tr>\n",
       "      <th>121</th>\n",
       "      <td>3</td>\n",
       "      <td>1</td>\n",
       "      <td>1</td>\n",
       "      <td>265</td>\n",
       "      <td>2.0</td>\n",
       "      <td>315.0</td>\n",
       "      <td>2</td>\n",
       "      <td>Pizza / Wings / Cheesecake</td>\n",
       "      <td>Loneliness / Homesick / Sadness</td>\n",
       "      <td>NaN</td>\n",
       "      <td>...</td>\n",
       "      <td>1.0</td>\n",
       "      <td>NaN</td>\n",
       "      <td>4</td>\n",
       "      <td>940.0</td>\n",
       "      <td>500</td>\n",
       "      <td>basketball</td>\n",
       "      <td>5</td>\n",
       "      <td>2</td>\n",
       "      <td>1315</td>\n",
       "      <td>180</td>\n",
       "    </tr>\n",
       "    <tr>\n",
       "      <th>122</th>\n",
       "      <td>3.882</td>\n",
       "      <td>1</td>\n",
       "      <td>1</td>\n",
       "      <td>720</td>\n",
       "      <td>NaN</td>\n",
       "      <td>420.0</td>\n",
       "      <td>1</td>\n",
       "      <td>rice, potato, seaweed soup</td>\n",
       "      <td>sadness</td>\n",
       "      <td>NaN</td>\n",
       "      <td>...</td>\n",
       "      <td>1.0</td>\n",
       "      <td>2.0</td>\n",
       "      <td>5</td>\n",
       "      <td>580.0</td>\n",
       "      <td>690</td>\n",
       "      <td>none</td>\n",
       "      <td>4</td>\n",
       "      <td>2</td>\n",
       "      <td>1315</td>\n",
       "      <td>120</td>\n",
       "    </tr>\n",
       "    <tr>\n",
       "      <th>123</th>\n",
       "      <td>3</td>\n",
       "      <td>2</td>\n",
       "      <td>1</td>\n",
       "      <td>720</td>\n",
       "      <td>4.0</td>\n",
       "      <td>420.0</td>\n",
       "      <td>1</td>\n",
       "      <td>Mac n Cheese, Lasagna, Pizza</td>\n",
       "      <td>happiness, they are some of my favorite foods</td>\n",
       "      <td>NaN</td>\n",
       "      <td>...</td>\n",
       "      <td>2.0</td>\n",
       "      <td>2.0</td>\n",
       "      <td>1</td>\n",
       "      <td>940.0</td>\n",
       "      <td>500</td>\n",
       "      <td>NaN</td>\n",
       "      <td>3</td>\n",
       "      <td>1</td>\n",
       "      <td>1315</td>\n",
       "      <td>135</td>\n",
       "    </tr>\n",
       "    <tr>\n",
       "      <th>124</th>\n",
       "      <td>3.9</td>\n",
       "      <td>1</td>\n",
       "      <td>1</td>\n",
       "      <td>430</td>\n",
       "      <td>NaN</td>\n",
       "      <td>315.0</td>\n",
       "      <td>2</td>\n",
       "      <td>Chocolates, pizza, and Ritz.</td>\n",
       "      <td>hormones, Premenstrual syndrome.</td>\n",
       "      <td>NaN</td>\n",
       "      <td>...</td>\n",
       "      <td>1.0</td>\n",
       "      <td>2.0</td>\n",
       "      <td>2</td>\n",
       "      <td>725.0</td>\n",
       "      <td>345</td>\n",
       "      <td>NaN</td>\n",
       "      <td>4</td>\n",
       "      <td>2</td>\n",
       "      <td>575</td>\n",
       "      <td>135</td>\n",
       "    </tr>\n",
       "  </tbody>\n",
       "</table>\n",
       "<p>125 rows × 61 columns</p>\n",
       "</div>"
      ],
      "text/plain": [
       "       GPA  Gender  breakfast  calories_chicken  calories_day  calories_scone  \\\n",
       "0      2.4       2          1               430           NaN           315.0   \n",
       "1    3.654       1          1               610           3.0           420.0   \n",
       "2      3.3       1          1               720           4.0           420.0   \n",
       "3      3.2       1          1               430           3.0           420.0   \n",
       "4      3.5       1          1               720           2.0           420.0   \n",
       "..     ...     ...        ...               ...           ...             ...   \n",
       "120    3.5       1          1               610           4.0           420.0   \n",
       "121      3       1          1               265           2.0           315.0   \n",
       "122  3.882       1          1               720           NaN           420.0   \n",
       "123      3       2          1               720           4.0           420.0   \n",
       "124    3.9       1          1               430           NaN           315.0   \n",
       "\n",
       "     coffee                             comfort_food  \\\n",
       "0         1                                     none   \n",
       "1         2              chocolate, chips, ice cream   \n",
       "2         2          frozen yogurt, pizza, fast food   \n",
       "3         2         Pizza, Mac and cheese, ice cream   \n",
       "4         2             Ice cream, chocolate, chips    \n",
       "..      ...                                      ...   \n",
       "120       2  wine. mac and cheese, pizza, ice cream    \n",
       "121       2               Pizza / Wings / Cheesecake   \n",
       "122       1               rice, potato, seaweed soup   \n",
       "123       1             Mac n Cheese, Lasagna, Pizza   \n",
       "124       2             Chocolates, pizza, and Ritz.   \n",
       "\n",
       "                              comfort_food_reasons  \\\n",
       "0                            we dont have comfort    \n",
       "1                             Stress, bored, anger   \n",
       "2                                  stress, sadness   \n",
       "3                                          Boredom   \n",
       "4                       Stress, boredom, cravings    \n",
       "..                                             ...   \n",
       "120                           boredom and sadness    \n",
       "121                Loneliness / Homesick / Sadness   \n",
       "122                                        sadness   \n",
       "123  happiness, they are some of my favorite foods   \n",
       "124               hormones, Premenstrual syndrome.   \n",
       "\n",
       "     comfort_food_reasons_coded  ...  soup  sports  thai_food  \\\n",
       "0                           9.0  ...   1.0     1.0          1   \n",
       "1                           1.0  ...   1.0     1.0          2   \n",
       "2                           1.0  ...   1.0     2.0          5   \n",
       "3                           2.0  ...   1.0     2.0          5   \n",
       "4                           1.0  ...   1.0     1.0          4   \n",
       "..                          ...  ...   ...     ...        ...   \n",
       "120                         NaN  ...   1.0     1.0          5   \n",
       "121                         NaN  ...   1.0     NaN          4   \n",
       "122                         NaN  ...   1.0     2.0          5   \n",
       "123                         NaN  ...   2.0     2.0          1   \n",
       "124                         NaN  ...   1.0     2.0          2   \n",
       "\n",
       "    tortilla_calories  turkey_calories  type_sports veggies_day  vitamins  \\\n",
       "0              1165.0              345   car racing           5         1   \n",
       "1               725.0              690  Basketball            4         2   \n",
       "2              1165.0              500         none           5         1   \n",
       "3               725.0              690          NaN           3         1   \n",
       "4               940.0              500     Softball           4         2   \n",
       "..                ...              ...          ...         ...       ...   \n",
       "120             940.0              500     Softball           5         1   \n",
       "121             940.0              500  basketball            5         2   \n",
       "122             580.0              690         none           4         2   \n",
       "123             940.0              500          NaN           3         1   \n",
       "124             725.0              345          NaN           4         2   \n",
       "\n",
       "     waffle_calories                    weight  \n",
       "0               1315                       187  \n",
       "1                900                       155  \n",
       "2                900  I'm not answering this.   \n",
       "3               1315             Not sure, 240  \n",
       "4                760                       190  \n",
       "..               ...                       ...  \n",
       "120             1315                       156  \n",
       "121             1315                       180  \n",
       "122             1315                       120  \n",
       "123             1315                       135  \n",
       "124              575                       135  \n",
       "\n",
       "[125 rows x 61 columns]"
      ]
     },
     "execution_count": 11,
     "metadata": {},
     "output_type": "execute_result"
    }
   ],
   "source": [
    "import pandas as pd\n",
    "import numpy as np\n",
    "\n",
    "df = pd.read_csv(\"https://raw.githubusercontent.com/She-Codes-Now/Intro-to-Data-Science-with-R/master/food_coded.csv\")\n",
    "df"
   ]
  },
  {
   "cell_type": "markdown",
   "metadata": {
    "slideshow": {
     "slide_type": "subslide"
    }
   },
   "source": [
    "### Redução de dados"
   ]
  },
  {
   "cell_type": "code",
   "execution_count": 12,
   "metadata": {},
   "outputs": [
    {
     "name": "stderr",
     "output_type": "stream",
     "text": [
      "C:\\Users\\elyss\\AppData\\Local\\Temp\\ipykernel_3720\\2757870541.py:22: DeprecationWarning: DataFrameGroupBy.apply operated on the grouping columns. This behavior is deprecated, and in a future version of pandas the grouping columns will be excluded from the operation. Either pass `include_groups=False` to exclude the groupings or explicitly select the grouping columns after groupby to silence this warning.\n",
      "  df.groupby('Gender').apply(lambda d: d.sample(len(d)//10))\n"
     ]
    },
    {
     "data": {
      "text/html": [
       "<div>\n",
       "<style scoped>\n",
       "    .dataframe tbody tr th:only-of-type {\n",
       "        vertical-align: middle;\n",
       "    }\n",
       "\n",
       "    .dataframe tbody tr th {\n",
       "        vertical-align: top;\n",
       "    }\n",
       "\n",
       "    .dataframe thead th {\n",
       "        text-align: right;\n",
       "    }\n",
       "</style>\n",
       "<table border=\"1\" class=\"dataframe\">\n",
       "  <thead>\n",
       "    <tr style=\"text-align: right;\">\n",
       "      <th></th>\n",
       "      <th></th>\n",
       "      <th>GPA</th>\n",
       "      <th>Gender</th>\n",
       "      <th>breakfast</th>\n",
       "      <th>calories_chicken</th>\n",
       "      <th>calories_day</th>\n",
       "      <th>calories_scone</th>\n",
       "      <th>coffee</th>\n",
       "      <th>comfort_food</th>\n",
       "      <th>comfort_food_reasons</th>\n",
       "      <th>comfort_food_reasons_coded</th>\n",
       "      <th>...</th>\n",
       "      <th>soup</th>\n",
       "      <th>sports</th>\n",
       "      <th>thai_food</th>\n",
       "      <th>tortilla_calories</th>\n",
       "      <th>turkey_calories</th>\n",
       "      <th>type_sports</th>\n",
       "      <th>veggies_day</th>\n",
       "      <th>vitamins</th>\n",
       "      <th>waffle_calories</th>\n",
       "      <th>weight</th>\n",
       "    </tr>\n",
       "    <tr>\n",
       "      <th>Gender</th>\n",
       "      <th></th>\n",
       "      <th></th>\n",
       "      <th></th>\n",
       "      <th></th>\n",
       "      <th></th>\n",
       "      <th></th>\n",
       "      <th></th>\n",
       "      <th></th>\n",
       "      <th></th>\n",
       "      <th></th>\n",
       "      <th></th>\n",
       "      <th></th>\n",
       "      <th></th>\n",
       "      <th></th>\n",
       "      <th></th>\n",
       "      <th></th>\n",
       "      <th></th>\n",
       "      <th></th>\n",
       "      <th></th>\n",
       "      <th></th>\n",
       "      <th></th>\n",
       "      <th></th>\n",
       "    </tr>\n",
       "  </thead>\n",
       "  <tbody>\n",
       "    <tr>\n",
       "      <th rowspan=\"7\" valign=\"top\">1</th>\n",
       "      <th>106</th>\n",
       "      <td>3</td>\n",
       "      <td>1</td>\n",
       "      <td>1</td>\n",
       "      <td>430</td>\n",
       "      <td>3.0</td>\n",
       "      <td>315.0</td>\n",
       "      <td>2</td>\n",
       "      <td>Pizza, soda, chocolate brownie, chicken tikka ...</td>\n",
       "      <td>Stress and sadness</td>\n",
       "      <td>NaN</td>\n",
       "      <td>...</td>\n",
       "      <td>1.0</td>\n",
       "      <td>2.0</td>\n",
       "      <td>4</td>\n",
       "      <td>580.0</td>\n",
       "      <td>500</td>\n",
       "      <td>NaN</td>\n",
       "      <td>5</td>\n",
       "      <td>2</td>\n",
       "      <td>760</td>\n",
       "      <td>130</td>\n",
       "    </tr>\n",
       "    <tr>\n",
       "      <th>83</th>\n",
       "      <td>3.7</td>\n",
       "      <td>1</td>\n",
       "      <td>1</td>\n",
       "      <td>430</td>\n",
       "      <td>3.0</td>\n",
       "      <td>420.0</td>\n",
       "      <td>2</td>\n",
       "      <td>Mashed potatoes, pasta</td>\n",
       "      <td>Boredom, sadness, or with friends</td>\n",
       "      <td>2.0</td>\n",
       "      <td>...</td>\n",
       "      <td>1.0</td>\n",
       "      <td>1.0</td>\n",
       "      <td>5</td>\n",
       "      <td>940.0</td>\n",
       "      <td>690</td>\n",
       "      <td>Marching Band</td>\n",
       "      <td>4</td>\n",
       "      <td>2</td>\n",
       "      <td>1315</td>\n",
       "      <td>127</td>\n",
       "    </tr>\n",
       "    <tr>\n",
       "      <th>81</th>\n",
       "      <td>3.5</td>\n",
       "      <td>1</td>\n",
       "      <td>2</td>\n",
       "      <td>610</td>\n",
       "      <td>3.0</td>\n",
       "      <td>420.0</td>\n",
       "      <td>1</td>\n",
       "      <td>cake, French fries, chicken nuggets</td>\n",
       "      <td>boredom, sadness</td>\n",
       "      <td>2.0</td>\n",
       "      <td>...</td>\n",
       "      <td>2.0</td>\n",
       "      <td>1.0</td>\n",
       "      <td>4</td>\n",
       "      <td>725.0</td>\n",
       "      <td>500</td>\n",
       "      <td>softball and basketball</td>\n",
       "      <td>2</td>\n",
       "      <td>2</td>\n",
       "      <td>900</td>\n",
       "      <td>190</td>\n",
       "    </tr>\n",
       "    <tr>\n",
       "      <th>117</th>\n",
       "      <td>3.77</td>\n",
       "      <td>1</td>\n",
       "      <td>1</td>\n",
       "      <td>610</td>\n",
       "      <td>NaN</td>\n",
       "      <td>315.0</td>\n",
       "      <td>2</td>\n",
       "      <td>Noodle ( any kinds of noodle), Tuna sandwich, ...</td>\n",
       "      <td>When i'm  eating with my close friends/ Food s...</td>\n",
       "      <td>NaN</td>\n",
       "      <td>...</td>\n",
       "      <td>1.0</td>\n",
       "      <td>2.0</td>\n",
       "      <td>5</td>\n",
       "      <td>725.0</td>\n",
       "      <td>690</td>\n",
       "      <td>No, I don't play sport.</td>\n",
       "      <td>3</td>\n",
       "      <td>1</td>\n",
       "      <td>760</td>\n",
       "      <td>113</td>\n",
       "    </tr>\n",
       "    <tr>\n",
       "      <th>120</th>\n",
       "      <td>3.5</td>\n",
       "      <td>1</td>\n",
       "      <td>1</td>\n",
       "      <td>610</td>\n",
       "      <td>4.0</td>\n",
       "      <td>420.0</td>\n",
       "      <td>2</td>\n",
       "      <td>wine. mac and cheese, pizza, ice cream</td>\n",
       "      <td>boredom and sadness</td>\n",
       "      <td>NaN</td>\n",
       "      <td>...</td>\n",
       "      <td>1.0</td>\n",
       "      <td>1.0</td>\n",
       "      <td>5</td>\n",
       "      <td>940.0</td>\n",
       "      <td>500</td>\n",
       "      <td>Softball</td>\n",
       "      <td>5</td>\n",
       "      <td>1</td>\n",
       "      <td>1315</td>\n",
       "      <td>156</td>\n",
       "    </tr>\n",
       "    <tr>\n",
       "      <th>112</th>\n",
       "      <td>3.9</td>\n",
       "      <td>1</td>\n",
       "      <td>1</td>\n",
       "      <td>610</td>\n",
       "      <td>4.0</td>\n",
       "      <td>315.0</td>\n",
       "      <td>2</td>\n",
       "      <td>Chocolate, Ice cream, pizza</td>\n",
       "      <td>Sadness, happiness and boredom</td>\n",
       "      <td>NaN</td>\n",
       "      <td>...</td>\n",
       "      <td>1.0</td>\n",
       "      <td>2.0</td>\n",
       "      <td>5</td>\n",
       "      <td>725.0</td>\n",
       "      <td>500</td>\n",
       "      <td>NaN</td>\n",
       "      <td>3</td>\n",
       "      <td>2</td>\n",
       "      <td>900</td>\n",
       "      <td>129</td>\n",
       "    </tr>\n",
       "    <tr>\n",
       "      <th>71</th>\n",
       "      <td>4</td>\n",
       "      <td>1</td>\n",
       "      <td>1</td>\n",
       "      <td>720</td>\n",
       "      <td>NaN</td>\n",
       "      <td>420.0</td>\n",
       "      <td>2</td>\n",
       "      <td>Chocolate, ice cream, cookie dough</td>\n",
       "      <td>Boredom, being in your period, and long bus ri...</td>\n",
       "      <td>2.0</td>\n",
       "      <td>...</td>\n",
       "      <td>1.0</td>\n",
       "      <td>1.0</td>\n",
       "      <td>4</td>\n",
       "      <td>1165.0</td>\n",
       "      <td>690</td>\n",
       "      <td>Softball</td>\n",
       "      <td>5</td>\n",
       "      <td>1</td>\n",
       "      <td>1315</td>\n",
       "      <td>140</td>\n",
       "    </tr>\n",
       "    <tr>\n",
       "      <th rowspan=\"4\" valign=\"top\">2</th>\n",
       "      <th>90</th>\n",
       "      <td>3.68</td>\n",
       "      <td>2</td>\n",
       "      <td>1</td>\n",
       "      <td>720</td>\n",
       "      <td>4.0</td>\n",
       "      <td>420.0</td>\n",
       "      <td>2</td>\n",
       "      <td>chips, ice cream, fruit snacks</td>\n",
       "      <td>boredom</td>\n",
       "      <td>2.0</td>\n",
       "      <td>...</td>\n",
       "      <td>2.0</td>\n",
       "      <td>1.0</td>\n",
       "      <td>3</td>\n",
       "      <td>1165.0</td>\n",
       "      <td>850</td>\n",
       "      <td>Fotball</td>\n",
       "      <td>4</td>\n",
       "      <td>1</td>\n",
       "      <td>1315</td>\n",
       "      <td>260</td>\n",
       "    </tr>\n",
       "    <tr>\n",
       "      <th>95</th>\n",
       "      <td>3.5</td>\n",
       "      <td>2</td>\n",
       "      <td>1</td>\n",
       "      <td>265</td>\n",
       "      <td>NaN</td>\n",
       "      <td>420.0</td>\n",
       "      <td>2</td>\n",
       "      <td>Doritos, mac and cheese, ice cream</td>\n",
       "      <td>Boredom, hunger, snacking.</td>\n",
       "      <td>2.0</td>\n",
       "      <td>...</td>\n",
       "      <td>2.0</td>\n",
       "      <td>1.0</td>\n",
       "      <td>4</td>\n",
       "      <td>1165.0</td>\n",
       "      <td>690</td>\n",
       "      <td>Wrestling</td>\n",
       "      <td>4</td>\n",
       "      <td>2</td>\n",
       "      <td>1315</td>\n",
       "      <td>184</td>\n",
       "    </tr>\n",
       "    <tr>\n",
       "      <th>88</th>\n",
       "      <td>3.5</td>\n",
       "      <td>2</td>\n",
       "      <td>2</td>\n",
       "      <td>720</td>\n",
       "      <td>4.0</td>\n",
       "      <td>980.0</td>\n",
       "      <td>2</td>\n",
       "      <td>Little Debbie snacks, donuts, pizza</td>\n",
       "      <td>NaN</td>\n",
       "      <td>9.0</td>\n",
       "      <td>...</td>\n",
       "      <td>1.0</td>\n",
       "      <td>2.0</td>\n",
       "      <td>5</td>\n",
       "      <td>1165.0</td>\n",
       "      <td>850</td>\n",
       "      <td>NaN</td>\n",
       "      <td>4</td>\n",
       "      <td>1</td>\n",
       "      <td>1315</td>\n",
       "      <td>175</td>\n",
       "    </tr>\n",
       "    <tr>\n",
       "      <th>32</th>\n",
       "      <td>3.4</td>\n",
       "      <td>2</td>\n",
       "      <td>1</td>\n",
       "      <td>610</td>\n",
       "      <td>3.0</td>\n",
       "      <td>315.0</td>\n",
       "      <td>2</td>\n",
       "      <td>Grandma's Chinese, Peruvian food from back hom...</td>\n",
       "      <td>Hunger and Boredom</td>\n",
       "      <td>4.0</td>\n",
       "      <td>...</td>\n",
       "      <td>1.0</td>\n",
       "      <td>1.0</td>\n",
       "      <td>5</td>\n",
       "      <td>580.0</td>\n",
       "      <td>345</td>\n",
       "      <td>Soccer</td>\n",
       "      <td>5</td>\n",
       "      <td>1</td>\n",
       "      <td>760</td>\n",
       "      <td>NaN</td>\n",
       "    </tr>\n",
       "  </tbody>\n",
       "</table>\n",
       "<p>11 rows × 61 columns</p>\n",
       "</div>"
      ],
      "text/plain": [
       "             GPA  Gender  breakfast  calories_chicken  calories_day  \\\n",
       "Gender                                                                \n",
       "1      106     3       1          1               430           3.0   \n",
       "       83    3.7       1          1               430           3.0   \n",
       "       81    3.5       1          2               610           3.0   \n",
       "       117  3.77       1          1               610           NaN   \n",
       "       120   3.5       1          1               610           4.0   \n",
       "       112   3.9       1          1               610           4.0   \n",
       "       71      4       1          1               720           NaN   \n",
       "2      90   3.68       2          1               720           4.0   \n",
       "       95    3.5       2          1               265           NaN   \n",
       "       88    3.5       2          2               720           4.0   \n",
       "       32    3.4       2          1               610           3.0   \n",
       "\n",
       "            calories_scone  coffee  \\\n",
       "Gender                               \n",
       "1      106           315.0       2   \n",
       "       83            420.0       2   \n",
       "       81            420.0       1   \n",
       "       117           315.0       2   \n",
       "       120           420.0       2   \n",
       "       112           315.0       2   \n",
       "       71            420.0       2   \n",
       "2      90            420.0       2   \n",
       "       95            420.0       2   \n",
       "       88            980.0       2   \n",
       "       32            315.0       2   \n",
       "\n",
       "                                                 comfort_food  \\\n",
       "Gender                                                          \n",
       "1      106  Pizza, soda, chocolate brownie, chicken tikka ...   \n",
       "       83                              Mashed potatoes, pasta   \n",
       "       81                 cake, French fries, chicken nuggets   \n",
       "       117  Noodle ( any kinds of noodle), Tuna sandwich, ...   \n",
       "       120            wine. mac and cheese, pizza, ice cream    \n",
       "       112                        Chocolate, Ice cream, pizza   \n",
       "       71                  Chocolate, ice cream, cookie dough   \n",
       "2      90                      chips, ice cream, fruit snacks   \n",
       "       95                  Doritos, mac and cheese, ice cream   \n",
       "       88                 Little Debbie snacks, donuts, pizza   \n",
       "       32   Grandma's Chinese, Peruvian food from back hom...   \n",
       "\n",
       "                                         comfort_food_reasons  \\\n",
       "Gender                                                          \n",
       "1      106                                 Stress and sadness   \n",
       "       83                  Boredom, sadness, or with friends    \n",
       "       81                                    boredom, sadness   \n",
       "       117  When i'm  eating with my close friends/ Food s...   \n",
       "       120                               boredom and sadness    \n",
       "       112                     Sadness, happiness and boredom   \n",
       "       71   Boredom, being in your period, and long bus ri...   \n",
       "2      90                                             boredom   \n",
       "       95                          Boredom, hunger, snacking.   \n",
       "       88                                                 NaN   \n",
       "       32                                 Hunger and Boredom    \n",
       "\n",
       "            comfort_food_reasons_coded  ...  soup  sports  thai_food  \\\n",
       "Gender                                  ...                            \n",
       "1      106                         NaN  ...   1.0     2.0          4   \n",
       "       83                          2.0  ...   1.0     1.0          5   \n",
       "       81                          2.0  ...   2.0     1.0          4   \n",
       "       117                         NaN  ...   1.0     2.0          5   \n",
       "       120                         NaN  ...   1.0     1.0          5   \n",
       "       112                         NaN  ...   1.0     2.0          5   \n",
       "       71                          2.0  ...   1.0     1.0          4   \n",
       "2      90                          2.0  ...   2.0     1.0          3   \n",
       "       95                          2.0  ...   2.0     1.0          4   \n",
       "       88                          9.0  ...   1.0     2.0          5   \n",
       "       32                          4.0  ...   1.0     1.0          5   \n",
       "\n",
       "           tortilla_calories  turkey_calories              type_sports  \\\n",
       "Gender                                                                   \n",
       "1      106             580.0              500                      NaN   \n",
       "       83              940.0              690            Marching Band   \n",
       "       81              725.0              500  softball and basketball   \n",
       "       117             725.0              690  No, I don't play sport.   \n",
       "       120             940.0              500                 Softball   \n",
       "       112             725.0              500                      NaN   \n",
       "       71             1165.0              690                 Softball   \n",
       "2      90             1165.0              850                  Fotball   \n",
       "       95             1165.0              690                Wrestling   \n",
       "       88             1165.0              850                      NaN   \n",
       "       32              580.0              345                   Soccer   \n",
       "\n",
       "           veggies_day  vitamins  waffle_calories  weight  \n",
       "Gender                                                     \n",
       "1      106           5         2              760     130  \n",
       "       83            4         2             1315     127  \n",
       "       81            2         2              900     190  \n",
       "       117           3         1              760     113  \n",
       "       120           5         1             1315     156  \n",
       "       112           3         2              900     129  \n",
       "       71            5         1             1315     140  \n",
       "2      90            4         1             1315     260  \n",
       "       95            4         2             1315     184  \n",
       "       88            4         1             1315     175  \n",
       "       32            5         1              760     NaN  \n",
       "\n",
       "[11 rows x 61 columns]"
      ]
     },
     "execution_count": 12,
     "metadata": {},
     "output_type": "execute_result"
    }
   ],
   "source": [
    "# Amostragem aleatória sem substituição\n",
    "df.sample(10)\n",
    "\n",
    "# Amostragem aleatória com substituição\n",
    "df.sample(10).sample(5, replace=True)\n",
    "\n",
    "# Amostragem sistemática\n",
    "df.sort_values(by='GPA')[::2]\n",
    "\n",
    "# Amostragem por grupo\n",
    "\n",
    "# unique retorna os valores únicos de uma coluna\n",
    "groups = df['grade_level'].unique() \n",
    "# escolher de forma randômica 2 grupos sem mudar o dataframe original\n",
    "groups = np.random.choice(groups,2,replace=False)\n",
    "# criar uma máscara para selecionar as linhas que pertencem a esses grupos pelo método apply e lambda para aplicar a função\n",
    "mask = df['grade_level'].apply(lambda x: x in groups)\n",
    "df[mask]\n",
    "\n",
    "# Amostragem estratificada\n",
    "# selecionar 10% dos dados de cada grupo\n",
    "df.groupby('Gender').apply(lambda d: d.sample(len(d)//10))\n"
   ]
  },
  {
   "cell_type": "markdown",
   "metadata": {
    "slideshow": {
     "slide_type": "subslide"
    }
   },
   "source": [
    "### Transformação de dados"
   ]
  },
  {
   "cell_type": "code",
   "execution_count": null,
   "metadata": {},
   "outputs": [
    {
     "name": "stderr",
     "output_type": "stream",
     "text": [
      "C:\\Users\\elyss\\AppData\\Local\\Temp\\ipykernel_3720\\2639958180.py:40: FutureWarning: Setting an item of incompatible dtype is deprecated and will raise an error in a future version of pandas. Value '240' has dtype incompatible with float64, please explicitly cast to a compatible dtype first.\n",
      "  df.loc[3,'weight']='240'\n"
     ]
    },
    {
     "data": {
      "text/html": [
       "<div>\n",
       "<style scoped>\n",
       "    .dataframe tbody tr th:only-of-type {\n",
       "        vertical-align: middle;\n",
       "    }\n",
       "\n",
       "    .dataframe tbody tr th {\n",
       "        vertical-align: top;\n",
       "    }\n",
       "\n",
       "    .dataframe thead th {\n",
       "        text-align: right;\n",
       "    }\n",
       "</style>\n",
       "<table border=\"1\" class=\"dataframe\">\n",
       "  <thead>\n",
       "    <tr style=\"text-align: right;\">\n",
       "      <th></th>\n",
       "      <th>GPA</th>\n",
       "      <th>Gender</th>\n",
       "      <th>breakfast</th>\n",
       "      <th>calories_chicken</th>\n",
       "      <th>calories_day</th>\n",
       "      <th>calories_scone</th>\n",
       "      <th>coffee</th>\n",
       "      <th>comfort_food</th>\n",
       "      <th>comfort_food_reasons</th>\n",
       "      <th>comfort_food_reasons_coded</th>\n",
       "      <th>...</th>\n",
       "      <th>soup</th>\n",
       "      <th>sports</th>\n",
       "      <th>thai_food</th>\n",
       "      <th>tortilla_calories</th>\n",
       "      <th>turkey_calories</th>\n",
       "      <th>type_sports</th>\n",
       "      <th>veggies_day</th>\n",
       "      <th>vitamins</th>\n",
       "      <th>waffle_calories</th>\n",
       "      <th>weight</th>\n",
       "    </tr>\n",
       "  </thead>\n",
       "  <tbody>\n",
       "    <tr>\n",
       "      <th>0</th>\n",
       "      <td>2.4</td>\n",
       "      <td>2</td>\n",
       "      <td>1</td>\n",
       "      <td>430</td>\n",
       "      <td>NaN</td>\n",
       "      <td>315.0</td>\n",
       "      <td>1</td>\n",
       "      <td>none</td>\n",
       "      <td>we dont have comfort</td>\n",
       "      <td>9.0</td>\n",
       "      <td>...</td>\n",
       "      <td>1.0</td>\n",
       "      <td>1.0</td>\n",
       "      <td>1</td>\n",
       "      <td>1165.0</td>\n",
       "      <td>345</td>\n",
       "      <td>car racing</td>\n",
       "      <td>5</td>\n",
       "      <td>1</td>\n",
       "      <td>1315</td>\n",
       "      <td>187.0</td>\n",
       "    </tr>\n",
       "    <tr>\n",
       "      <th>1</th>\n",
       "      <td>3.7</td>\n",
       "      <td>1</td>\n",
       "      <td>1</td>\n",
       "      <td>610</td>\n",
       "      <td>3.0</td>\n",
       "      <td>420.0</td>\n",
       "      <td>2</td>\n",
       "      <td>chocolate, chips, ice cream</td>\n",
       "      <td>Stress, bored, anger</td>\n",
       "      <td>1.0</td>\n",
       "      <td>...</td>\n",
       "      <td>1.0</td>\n",
       "      <td>1.0</td>\n",
       "      <td>2</td>\n",
       "      <td>725.0</td>\n",
       "      <td>690</td>\n",
       "      <td>Basketball</td>\n",
       "      <td>4</td>\n",
       "      <td>2</td>\n",
       "      <td>900</td>\n",
       "      <td>155.0</td>\n",
       "    </tr>\n",
       "    <tr>\n",
       "      <th>2</th>\n",
       "      <td>3.3</td>\n",
       "      <td>1</td>\n",
       "      <td>1</td>\n",
       "      <td>720</td>\n",
       "      <td>4.0</td>\n",
       "      <td>420.0</td>\n",
       "      <td>2</td>\n",
       "      <td>frozen yogurt, pizza, fast food</td>\n",
       "      <td>stress, sadness</td>\n",
       "      <td>1.0</td>\n",
       "      <td>...</td>\n",
       "      <td>1.0</td>\n",
       "      <td>2.0</td>\n",
       "      <td>5</td>\n",
       "      <td>1165.0</td>\n",
       "      <td>500</td>\n",
       "      <td>none</td>\n",
       "      <td>5</td>\n",
       "      <td>1</td>\n",
       "      <td>900</td>\n",
       "      <td>NaN</td>\n",
       "    </tr>\n",
       "    <tr>\n",
       "      <th>3</th>\n",
       "      <td>3.2</td>\n",
       "      <td>1</td>\n",
       "      <td>1</td>\n",
       "      <td>430</td>\n",
       "      <td>3.0</td>\n",
       "      <td>420.0</td>\n",
       "      <td>2</td>\n",
       "      <td>Pizza, Mac and cheese, ice cream</td>\n",
       "      <td>Boredom</td>\n",
       "      <td>2.0</td>\n",
       "      <td>...</td>\n",
       "      <td>1.0</td>\n",
       "      <td>2.0</td>\n",
       "      <td>5</td>\n",
       "      <td>725.0</td>\n",
       "      <td>690</td>\n",
       "      <td>NaN</td>\n",
       "      <td>3</td>\n",
       "      <td>1</td>\n",
       "      <td>1315</td>\n",
       "      <td>240.0</td>\n",
       "    </tr>\n",
       "    <tr>\n",
       "      <th>4</th>\n",
       "      <td>3.5</td>\n",
       "      <td>1</td>\n",
       "      <td>1</td>\n",
       "      <td>720</td>\n",
       "      <td>2.0</td>\n",
       "      <td>420.0</td>\n",
       "      <td>2</td>\n",
       "      <td>Ice cream, chocolate, chips</td>\n",
       "      <td>Stress, boredom, cravings</td>\n",
       "      <td>1.0</td>\n",
       "      <td>...</td>\n",
       "      <td>1.0</td>\n",
       "      <td>1.0</td>\n",
       "      <td>4</td>\n",
       "      <td>940.0</td>\n",
       "      <td>500</td>\n",
       "      <td>Softball</td>\n",
       "      <td>4</td>\n",
       "      <td>2</td>\n",
       "      <td>760</td>\n",
       "      <td>190.0</td>\n",
       "    </tr>\n",
       "    <tr>\n",
       "      <th>...</th>\n",
       "      <td>...</td>\n",
       "      <td>...</td>\n",
       "      <td>...</td>\n",
       "      <td>...</td>\n",
       "      <td>...</td>\n",
       "      <td>...</td>\n",
       "      <td>...</td>\n",
       "      <td>...</td>\n",
       "      <td>...</td>\n",
       "      <td>...</td>\n",
       "      <td>...</td>\n",
       "      <td>...</td>\n",
       "      <td>...</td>\n",
       "      <td>...</td>\n",
       "      <td>...</td>\n",
       "      <td>...</td>\n",
       "      <td>...</td>\n",
       "      <td>...</td>\n",
       "      <td>...</td>\n",
       "      <td>...</td>\n",
       "      <td>...</td>\n",
       "    </tr>\n",
       "    <tr>\n",
       "      <th>120</th>\n",
       "      <td>3.5</td>\n",
       "      <td>1</td>\n",
       "      <td>1</td>\n",
       "      <td>610</td>\n",
       "      <td>4.0</td>\n",
       "      <td>420.0</td>\n",
       "      <td>2</td>\n",
       "      <td>wine. mac and cheese, pizza, ice cream</td>\n",
       "      <td>boredom and sadness</td>\n",
       "      <td>NaN</td>\n",
       "      <td>...</td>\n",
       "      <td>1.0</td>\n",
       "      <td>1.0</td>\n",
       "      <td>5</td>\n",
       "      <td>940.0</td>\n",
       "      <td>500</td>\n",
       "      <td>Softball</td>\n",
       "      <td>5</td>\n",
       "      <td>1</td>\n",
       "      <td>1315</td>\n",
       "      <td>156.0</td>\n",
       "    </tr>\n",
       "    <tr>\n",
       "      <th>121</th>\n",
       "      <td>3.0</td>\n",
       "      <td>1</td>\n",
       "      <td>1</td>\n",
       "      <td>265</td>\n",
       "      <td>2.0</td>\n",
       "      <td>315.0</td>\n",
       "      <td>2</td>\n",
       "      <td>Pizza / Wings / Cheesecake</td>\n",
       "      <td>Loneliness / Homesick / Sadness</td>\n",
       "      <td>NaN</td>\n",
       "      <td>...</td>\n",
       "      <td>1.0</td>\n",
       "      <td>NaN</td>\n",
       "      <td>4</td>\n",
       "      <td>940.0</td>\n",
       "      <td>500</td>\n",
       "      <td>basketball</td>\n",
       "      <td>5</td>\n",
       "      <td>2</td>\n",
       "      <td>1315</td>\n",
       "      <td>180.0</td>\n",
       "    </tr>\n",
       "    <tr>\n",
       "      <th>122</th>\n",
       "      <td>3.9</td>\n",
       "      <td>1</td>\n",
       "      <td>1</td>\n",
       "      <td>720</td>\n",
       "      <td>NaN</td>\n",
       "      <td>420.0</td>\n",
       "      <td>1</td>\n",
       "      <td>rice, potato, seaweed soup</td>\n",
       "      <td>sadness</td>\n",
       "      <td>NaN</td>\n",
       "      <td>...</td>\n",
       "      <td>1.0</td>\n",
       "      <td>2.0</td>\n",
       "      <td>5</td>\n",
       "      <td>580.0</td>\n",
       "      <td>690</td>\n",
       "      <td>none</td>\n",
       "      <td>4</td>\n",
       "      <td>2</td>\n",
       "      <td>1315</td>\n",
       "      <td>120.0</td>\n",
       "    </tr>\n",
       "    <tr>\n",
       "      <th>123</th>\n",
       "      <td>3.0</td>\n",
       "      <td>2</td>\n",
       "      <td>1</td>\n",
       "      <td>720</td>\n",
       "      <td>4.0</td>\n",
       "      <td>420.0</td>\n",
       "      <td>1</td>\n",
       "      <td>Mac n Cheese, Lasagna, Pizza</td>\n",
       "      <td>happiness, they are some of my favorite foods</td>\n",
       "      <td>NaN</td>\n",
       "      <td>...</td>\n",
       "      <td>2.0</td>\n",
       "      <td>2.0</td>\n",
       "      <td>1</td>\n",
       "      <td>940.0</td>\n",
       "      <td>500</td>\n",
       "      <td>NaN</td>\n",
       "      <td>3</td>\n",
       "      <td>1</td>\n",
       "      <td>1315</td>\n",
       "      <td>135.0</td>\n",
       "    </tr>\n",
       "    <tr>\n",
       "      <th>124</th>\n",
       "      <td>3.9</td>\n",
       "      <td>1</td>\n",
       "      <td>1</td>\n",
       "      <td>430</td>\n",
       "      <td>NaN</td>\n",
       "      <td>315.0</td>\n",
       "      <td>2</td>\n",
       "      <td>Chocolates, pizza, and Ritz.</td>\n",
       "      <td>hormones, Premenstrual syndrome.</td>\n",
       "      <td>NaN</td>\n",
       "      <td>...</td>\n",
       "      <td>1.0</td>\n",
       "      <td>2.0</td>\n",
       "      <td>2</td>\n",
       "      <td>725.0</td>\n",
       "      <td>345</td>\n",
       "      <td>NaN</td>\n",
       "      <td>4</td>\n",
       "      <td>2</td>\n",
       "      <td>575</td>\n",
       "      <td>135.0</td>\n",
       "    </tr>\n",
       "  </tbody>\n",
       "</table>\n",
       "<p>125 rows × 61 columns</p>\n",
       "</div>"
      ],
      "text/plain": [
       "     GPA  Gender  breakfast  calories_chicken  calories_day  calories_scone  \\\n",
       "0    2.4       2          1               430           NaN           315.0   \n",
       "1    3.7       1          1               610           3.0           420.0   \n",
       "2    3.3       1          1               720           4.0           420.0   \n",
       "3    3.2       1          1               430           3.0           420.0   \n",
       "4    3.5       1          1               720           2.0           420.0   \n",
       "..   ...     ...        ...               ...           ...             ...   \n",
       "120  3.5       1          1               610           4.0           420.0   \n",
       "121  3.0       1          1               265           2.0           315.0   \n",
       "122  3.9       1          1               720           NaN           420.0   \n",
       "123  3.0       2          1               720           4.0           420.0   \n",
       "124  3.9       1          1               430           NaN           315.0   \n",
       "\n",
       "     coffee                             comfort_food  \\\n",
       "0         1                                     none   \n",
       "1         2              chocolate, chips, ice cream   \n",
       "2         2          frozen yogurt, pizza, fast food   \n",
       "3         2         Pizza, Mac and cheese, ice cream   \n",
       "4         2             Ice cream, chocolate, chips    \n",
       "..      ...                                      ...   \n",
       "120       2  wine. mac and cheese, pizza, ice cream    \n",
       "121       2               Pizza / Wings / Cheesecake   \n",
       "122       1               rice, potato, seaweed soup   \n",
       "123       1             Mac n Cheese, Lasagna, Pizza   \n",
       "124       2             Chocolates, pizza, and Ritz.   \n",
       "\n",
       "                              comfort_food_reasons  \\\n",
       "0                            we dont have comfort    \n",
       "1                             Stress, bored, anger   \n",
       "2                                  stress, sadness   \n",
       "3                                          Boredom   \n",
       "4                       Stress, boredom, cravings    \n",
       "..                                             ...   \n",
       "120                           boredom and sadness    \n",
       "121                Loneliness / Homesick / Sadness   \n",
       "122                                        sadness   \n",
       "123  happiness, they are some of my favorite foods   \n",
       "124               hormones, Premenstrual syndrome.   \n",
       "\n",
       "     comfort_food_reasons_coded  ...  soup  sports  thai_food  \\\n",
       "0                           9.0  ...   1.0     1.0          1   \n",
       "1                           1.0  ...   1.0     1.0          2   \n",
       "2                           1.0  ...   1.0     2.0          5   \n",
       "3                           2.0  ...   1.0     2.0          5   \n",
       "4                           1.0  ...   1.0     1.0          4   \n",
       "..                          ...  ...   ...     ...        ...   \n",
       "120                         NaN  ...   1.0     1.0          5   \n",
       "121                         NaN  ...   1.0     NaN          4   \n",
       "122                         NaN  ...   1.0     2.0          5   \n",
       "123                         NaN  ...   2.0     2.0          1   \n",
       "124                         NaN  ...   1.0     2.0          2   \n",
       "\n",
       "    tortilla_calories  turkey_calories  type_sports veggies_day  vitamins  \\\n",
       "0              1165.0              345   car racing           5         1   \n",
       "1               725.0              690  Basketball            4         2   \n",
       "2              1165.0              500         none           5         1   \n",
       "3               725.0              690          NaN           3         1   \n",
       "4               940.0              500     Softball           4         2   \n",
       "..                ...              ...          ...         ...       ...   \n",
       "120             940.0              500     Softball           5         1   \n",
       "121             940.0              500  basketball            5         2   \n",
       "122             580.0              690         none           4         2   \n",
       "123             940.0              500          NaN           3         1   \n",
       "124             725.0              345          NaN           4         2   \n",
       "\n",
       "     waffle_calories  weight  \n",
       "0               1315   187.0  \n",
       "1                900   155.0  \n",
       "2                900     NaN  \n",
       "3               1315   240.0  \n",
       "4                760   190.0  \n",
       "..               ...     ...  \n",
       "120             1315   156.0  \n",
       "121             1315   180.0  \n",
       "122             1315   120.0  \n",
       "123             1315   135.0  \n",
       "124              575   135.0  \n",
       "\n",
       "[125 rows x 61 columns]"
      ]
     },
     "execution_count": 17,
     "metadata": {},
     "output_type": "execute_result"
    }
   ],
   "source": [
    "# Capitalização\n",
    "\n",
    "# Transformar a coluna comfort_food em minúscula\n",
    "df['comfort_food'].str.lower()\n",
    "\n",
    "# Caracteres especiais\n",
    "\n",
    "# Substituir / por , na coluna comfort_food\n",
    "df['comfort_food'].str.replace('/',',')\n",
    "\n",
    "\"\"\"\n",
    "    NFD vai separar os caracteres especiais dos caracteres normais em seguida o encode vai transformar \n",
    "    os caracteres especiais em bytes e o ascii vai remover os caracteres especiais e o decode vai \n",
    "    transformar os bytes em string novamente    \n",
    "\"\"\"\n",
    "# Nessa etapa é possível remover acentos e caracteres especiais\n",
    "pd.Series(['Quixadá','São Paulo']).str.normalize('NFD').str.encode('ascii',errors='ignore').str.decode('utf-8')\n",
    "\n",
    "# Padronização de formatos\n",
    "\n",
    "# Por meio de expressões regulares é possível substituir padrões de texto: trocar pontos e traços por nada, por exemplo, em um CPF\n",
    "pd.Series(['123.456.789-10','12345678910']).str.replace('\\.|-','',regex=True)\n",
    "\n",
    "# Conversão de unidades\n",
    "\n",
    "# Verificar se os elementos da coluna são textos ou números\n",
    "df['weight'].apply(lambda x: type(x)).value_counts()\n",
    "\n",
    "# Função para verificar se um valor é um número\n",
    "def is_number(x):\n",
    "    try:\n",
    "        float(x)\n",
    "        return True\n",
    "    except:\n",
    "        return False\n",
    "mask = df.weight.apply(is_number)\n",
    "df.weight[~mask]\n",
    "# Converter a coluna weight de libras para quilos, np.nan vai transformar os valores que não são números em NaN\n",
    "df.loc[2,'weight']=np.nan\n",
    "# Troca diretamente o valor da célula, visto que seu valor tem texto e não número\n",
    "df.loc[3,'weight']='240'\n",
    "# Troca diretamente o valor da célula, visto que seu valor tem texto e não número assim como o anterior\n",
    "df.loc[67,'weight']='144'\n",
    "# Para a coluna weight, transforma os valores em float\n",
    "df['weight'] = df['weight'].astype(float)\n",
    "# Multiplica o valor da coluna weight por 0.453592 e calcula a média\n",
    "(df['weight'] * 0.453592).mean()\n",
    "\n",
    "# Conversão de tipos, conversão de strings para números, se não for possível converter, retorna NaN\n",
    "def convert(x): \n",
    "    try: return float(x)\n",
    "    except: return np.nan\n",
    "\n",
    "# Aplica a função convert para a coluna GPA\n",
    "df['GPA'] = df['GPA'].apply(convert) \n",
    "df"
   ]
  },
  {
   "cell_type": "code",
   "execution_count": null,
   "metadata": {
    "slideshow": {
     "slide_type": "subslide"
    }
   },
   "outputs": [
    {
     "data": {
      "text/plain": [
       "0      2.4\n",
       "1      3.7\n",
       "2      3.3\n",
       "3      3.2\n",
       "4      3.5\n",
       "      ... \n",
       "120    3.5\n",
       "121    3.0\n",
       "122    3.9\n",
       "123    3.0\n",
       "124    3.9\n",
       "Name: GPA, Length: 125, dtype: float64"
      ]
     },
     "execution_count": 19,
     "metadata": {},
     "output_type": "execute_result"
    }
   ],
   "source": [
    "# Normalização Min-Max\n",
    "mask = df['GPA'].apply(is_number)\n",
    "df.loc[73,'GPA']=3.79\n",
    "df.GPA = pd.to_numeric(df.GPA, errors='coerce')\n",
    "df.GPA\n",
    "\n",
    "# Aplicando a equação de normalização min-max\n",
    "min_a, max_a = df['GPA'].min(), df['GPA'].max()\n",
    "novo_min_a = 0\n",
    "novo_max_a = 1\n",
    "\n",
    "def min_max_norm(a):\n",
    "    return (a - min_a)/(max_a - min_a)*(novo_max_a - novo_min_a) + novo_min_a\n",
    "\n",
    "df.GPA.apply(min_max_norm).sort_values()\n",
    "# Normalização z-score\n",
    "\n",
    "# Aplicando a equação de normalização z-score\n",
    "((df['GPA'] - df['GPA'].mean())/df['GPA'].std()).sort_values()\n",
    "# Normalização por escala decimal\n",
    "df['GPA'] = df['GPA'].round(1)\n",
    "# Normalização interquartil\n"
   ]
  },
  {
   "cell_type": "code",
   "execution_count": null,
   "metadata": {},
   "outputs": [
    {
     "name": "stdout",
     "output_type": "stream",
     "text": [
      "weight\n",
      "(141.25, 182.5]     50\n",
      "(99.835, 141.25]    45\n",
      "(182.5, 223.75]     22\n",
      "(223.75, 265.0]      5\n",
      "Name: count, dtype: int64\n"
     ]
    },
    {
     "data": {
      "text/plain": [
       "<Axes: >"
      ]
     },
     "execution_count": 20,
     "metadata": {},
     "output_type": "execute_result"
    },
    {
     "data": {
      "image/png": "[encoded data removed]",
      "text/plain": [
       "<Figure size 640x480 with 1 Axes>"
      ]
     },
     "metadata": {},
     "output_type": "display_data"
    }
   ],
   "source": [
    "# Encaixotamento \n",
    "\n",
    "# Cria 4 intervalos de peso\n",
    "bins = pd.qcut(df['weight'],4)\n",
    "# Retorna os intervalos únicos\n",
    "bins.unique()\n",
    "# Conta quantos elementos estão em cada intervalo\n",
    "print(bins.value_counts())\n",
    "\n",
    "# Cria 4 intervalos de peso\n",
    "pd.cut(df['weight'],4)\n",
    "\n",
    "# Fabricação do histograma\n",
    "df['weight'].hist(bins=4)\n",
    "\n",
    "\n",
    "\n",
    "# Histograma"
   ]
  },
  {
   "cell_type": "code",
   "execution_count": null,
   "metadata": {
    "slideshow": {
     "slide_type": "slide"
    }
   },
   "outputs": [
    {
     "ename": "NameError",
     "evalue": "name 'X' is not defined",
     "output_type": "error",
     "traceback": [
      "\u001b[1;31m---------------------------------------------------------------------------\u001b[0m",
      "\u001b[1;31mNameError\u001b[0m                                 Traceback (most recent call last)",
      "Cell \u001b[1;32mIn[21], line 6\u001b[0m\n\u001b[0;32m      4\u001b[0m pca \u001b[38;5;241m=\u001b[39m PCA(n_components\u001b[38;5;241m=\u001b[39m\u001b[38;5;241m1\u001b[39m)\n\u001b[0;32m      5\u001b[0m \u001b[38;5;66;03m# fit transform ajusta o modelo e aplica a transformação\u001b[39;00m\n\u001b[1;32m----> 6\u001b[0m pca\u001b[38;5;241m.\u001b[39mfit(\u001b[43mX\u001b[49m)\n\u001b[0;32m      7\u001b[0m \u001b[38;5;66;03m# transforma os dados\u001b[39;00m\n\u001b[0;32m      8\u001b[0m X_pca \u001b[38;5;241m=\u001b[39m pca\u001b[38;5;241m.\u001b[39mtransform(X)\n",
      "\u001b[1;31mNameError\u001b[0m: name 'X' is not defined"
     ]
    }
   ],
   "source": [
    "from sklearn.decomposition import PCA\n",
    "\n",
    "# Cria um array com 1000 pontos entre 0 e 2pi\n",
    "pca = PCA(n_components=1)\n",
    "# fit transform ajusta o modelo e aplica a transformação\n",
    "pca.fit(X)\n",
    "# transforma os dados\n",
    "X_pca = pca.transform(X)\n",
    "# transforma os dados de volta\n",
    "print(\"original shape:   \", X.shape)\n",
    "# imprime a forma original\n",
    "print(\"transformed shape:\", X_pca.shape)\n",
    "\n",
    "# Plota os dados originais e os dados transformados\n",
    "X_new = pca.inverse_transform(X_pca)\n",
    "plt.scatter(X[:, 0], X[:, 1], alpha=0.2)\n",
    "plt.scatter(X_new[:, 0], X_new[:, 1], alpha=0.8)\n",
    "plt.axis('equal')"
   ]
  }
 ],
 "metadata": {
  "celltoolbar": "Slideshow",
  "kernelspec": {
   "display_name": "Python 3",
   "language": "python",
   "name": "python3"
  },
  "language_info": {
   "codemirror_mode": {
    "name": "ipython",
    "version": 3
   },
   "file_extension": ".py",
   "mimetype": "text/x-python",
   "name": "python",
   "nbconvert_exporter": "python",
   "pygments_lexer": "ipython3",
   "version": "3.11.3"
  }
 },
 "nbformat": 4,
 "nbformat_minor": 2
}
